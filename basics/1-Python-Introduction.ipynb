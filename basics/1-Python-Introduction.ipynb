{
 "cells": [
  {
   "cell_type": "code",
   "id": "initial_id",
   "metadata": {
    "collapsed": true
   },
   "source": "print(\"Hello World\")",
   "outputs": [],
   "execution_count": null
  },
  {
   "metadata": {},
   "cell_type": "code",
   "source": "x=4",
   "id": "e398e50077420b9",
   "outputs": [],
   "execution_count": null
  },
  {
   "metadata": {},
   "cell_type": "code",
   "source": "type(x)",
   "id": "9f63be49f42482ca",
   "outputs": [],
   "execution_count": null
  },
  {
   "metadata": {
    "ExecuteTime": {
     "end_time": "2025-06-21T19:55:21.095665Z",
     "start_time": "2025-06-21T19:55:21.084856Z"
    }
   },
   "cell_type": "code",
   "source": "y=[1,3,5,6,7]",
   "id": "c90d51170dd99726",
   "outputs": [],
   "execution_count": 15
  },
  {
   "metadata": {
    "ExecuteTime": {
     "end_time": "2025-06-21T19:55:22.369382Z",
     "start_time": "2025-06-21T19:55:22.362981Z"
    }
   },
   "cell_type": "code",
   "source": "type(y)",
   "id": "8b80cb950c010b90",
   "outputs": [
    {
     "data": {
      "text/plain": [
       "list"
      ]
     },
     "execution_count": 16,
     "metadata": {},
     "output_type": "execute_result"
    }
   ],
   "execution_count": 16
  },
  {
   "metadata": {
    "ExecuteTime": {
     "end_time": "2025-06-21T19:55:23.450500Z",
     "start_time": "2025-06-21T19:55:23.447304Z"
    }
   },
   "cell_type": "code",
   "source": "total=0",
   "id": "66d8b6baa65cf6b4",
   "outputs": [],
   "execution_count": 17
  },
  {
   "metadata": {
    "ExecuteTime": {
     "end_time": "2025-06-22T13:50:11.091760Z",
     "start_time": "2025-06-22T13:50:11.064684Z"
    }
   },
   "cell_type": "code",
   "source": [
    "for amount in y:\n",
    "    total += amount\n",
    "print(total)"
   ],
   "id": "21097afeab327a25",
   "outputs": [
    {
     "name": "stdout",
     "output_type": "stream",
     "text": [
      "44\n"
     ]
    }
   ],
   "execution_count": 20
  },
  {
   "metadata": {
    "ExecuteTime": {
     "end_time": "2025-06-22T13:52:58.007516Z",
     "start_time": "2025-06-22T13:52:58.003968Z"
    }
   },
   "cell_type": "code",
   "source": "totalmarks = 0",
   "id": "18592c30a221b996",
   "outputs": [],
   "execution_count": 29
  },
  {
   "metadata": {
    "ExecuteTime": {
     "end_time": "2025-06-22T13:52:59.560885Z",
     "start_time": "2025-06-22T13:52:59.554075Z"
    }
   },
   "cell_type": "code",
   "source": "a = {\"vijay\":2,\"karuna\":3}",
   "id": "b670a1e288664439",
   "outputs": [],
   "execution_count": 30
  },
  {
   "metadata": {
    "ExecuteTime": {
     "end_time": "2025-06-22T13:53:19.037603Z",
     "start_time": "2025-06-22T13:53:19.027591Z"
    }
   },
   "cell_type": "code",
   "source": "totalmarks = sum(a.values())",
   "id": "c175b5b51c112543",
   "outputs": [],
   "execution_count": 32
  },
  {
   "metadata": {
    "ExecuteTime": {
     "end_time": "2025-06-22T13:53:36.915561Z",
     "start_time": "2025-06-22T13:53:36.910921Z"
    }
   },
   "cell_type": "code",
   "source": "print(totalmarks)",
   "id": "71f148f41b87bf91",
   "outputs": [
    {
     "name": "stdout",
     "output_type": "stream",
     "text": [
      "5\n"
     ]
    }
   ],
   "execution_count": 33
  },
  {
   "metadata": {},
   "cell_type": "code",
   "outputs": [],
   "execution_count": null,
   "source": "",
   "id": "81a9909aac55ace2"
  }
 ],
 "metadata": {
  "kernelspec": {
   "display_name": "Python 3",
   "language": "python",
   "name": "python3"
  },
  "language_info": {
   "codemirror_mode": {
    "name": "ipython",
    "version": 2
   },
   "file_extension": ".py",
   "mimetype": "text/x-python",
   "name": "python",
   "nbconvert_exporter": "python",
   "pygments_lexer": "ipython2",
   "version": "2.7.6"
  }
 },
 "nbformat": 4,
 "nbformat_minor": 5
}
